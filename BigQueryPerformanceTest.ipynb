{
  "nbformat": 4,
  "nbformat_minor": 0,
  "metadata": {
    "colab": {
      "provenance": []
    },
    "kernelspec": {
      "name": "python3",
      "display_name": "Python 3"
    },
    "language_info": {
      "name": "python"
    }
  },
  "cells": [
    {
      "cell_type": "markdown",
      "source": [
        "## Copyright 2023 Google LLC\n",
        "\n",
        "Licensed under the Apache License, Version 2.0 (the \"License\");\n",
        "you may not use this file except in compliance with the License.\n",
        "You may obtain a copy of the License at\n",
        "\n",
        "    https://www.apache.org/licenses/LICENSE-2.0\n",
        "\n",
        "Unless required by applicable law or agreed to in writing, software\n",
        "distributed under the License is distributed on an \"AS IS\" BASIS,\n",
        "WITHOUT WARRANTIES OR CONDITIONS OF ANY KIND, either express or implied.\n",
        "See the License for the specific language governing permissions and\n",
        "limitations under the License.\n",
        "author: cdamien 2023\n"
      ],
      "metadata": {
        "id": "kuuKD7LBHN1-"
      }
    },
    {
      "cell_type": "markdown",
      "source": [
        "# BigQuery Performance test\n",
        "\n",
        "Author: cdamien\n",
        "\n",
        "This notebook can be used to help in the context of a query performance test and provide several useful scripts to check:\n",
        "1. Check various aspects of the tables in a dataset\n",
        "2. Check assigned slots\n",
        "3. Perform a performance test of your queries (especially what would be the effect of a high number of concurrent queries)\n",
        "\n",
        "\n",
        "\n"
      ],
      "metadata": {
        "id": "NdeOgi8YXJAL"
      }
    },
    {
      "cell_type": "markdown",
      "source": [
        "## 1. Initialization\n",
        "---"
      ],
      "metadata": {
        "id": "KWDjfKdXwc9a"
      }
    },
    {
      "cell_type": "code",
      "source": [
        "from google.colab import files\n",
        "from google.cloud import bigquery\n",
        "\n",
        "# Initial setup\n",
        "global PROJECT_NAME\n",
        "PROJECT_NAME = \"my-project\"\n",
        "global DATASET\n",
        "DATASET = \"my-dataset\"\n",
        "global REGION\n",
        "REGION = \"us-central1\""
      ],
      "metadata": {
        "id": "XlXf7zEWZ2hP"
      },
      "execution_count": null,
      "outputs": []
    },
    {
      "cell_type": "markdown",
      "source": [
        "### Authentificate your user"
      ],
      "metadata": {
        "id": "Vzcxu1G_Xjwa"
      }
    },
    {
      "cell_type": "code",
      "source": [
        "# use this if you want to authentificate with the current user\n",
        "from google.colab import auth\n",
        "auth.authenticate_user()\n",
        "print('Authenticated')\n",
        "client = bigquery.Client(project=PROJECT_NAME)"
      ],
      "metadata": {
        "id": "HmDS0w32XhyO"
      },
      "execution_count": null,
      "outputs": []
    },
    {
      "cell_type": "code",
      "source": [
        "# use this if you want to upload and specify a local key file\n",
        "from google.oauth2 import service_account\n",
        "uploaded = files.upload()\n",
        "credentials = service_account.Credentials.from_service_account_file(\"your-service-account.json\") #update filename here\n",
        "client = bigquery.Client(credentials=credentials,project=PROJECT_NAME)"
      ],
      "metadata": {
        "id": "J8yxj5JQsvuL"
      },
      "execution_count": null,
      "outputs": []
    },
    {
      "cell_type": "markdown",
      "source": [
        "## 2. Check Tables\n",
        "---"
      ],
      "metadata": {
        "id": "lMWlyQT8XzB4"
      }
    },
    {
      "cell_type": "markdown",
      "source": [
        "### List datasets and their tables with their size in GB\n",
        "\n"
      ],
      "metadata": {
        "id": "7h3PpgpDZDz-"
      }
    },
    {
      "cell_type": "code",
      "source": [
        "datasets = list(client.list_datasets())\n",
        "\n",
        "logger1 = logging.getLogger('log')\n",
        "logger1.setLevel(logging.INFO)\n",
        "ch = logging.FileHandler(\"bq-tablesize.log\")\n",
        "ch.setFormatter(logging.Formatter('%(message)s'))\n",
        "logger1.addHandler(ch)\n",
        "def logit(content):\n",
        "\tlogger1.info(content)\n",
        "\n",
        "\n",
        "if datasets:\n",
        "    logger1.info(\"Datasets in project {}:\".format(PROJECT_NAME))\n",
        "    for dataset in datasets:\n",
        "        logger1.info(\"+ \\t{}\".format(dataset.dataset_id))\n",
        "        dt = client.get_dataset(dataset.dataset_id)\n",
        "        tables = list(client.list_tables(dt))\n",
        "        if tables:\n",
        "            for table in tables:\n",
        "                query = \"\"\"select sum(size_bytes)/1073741824 as size FROM \"\"\"+ PROJECT_NAME +\".\"+ dataset.dataset_id +\"\"\".__TABLES__ WHERE table_id ='\"\"\" + table.table_id + \"'\"\n",
        "                query_job = client.query(query)\n",
        "                for row in query_job:\n",
        "                  logger1.info(\"name={}, tablesize={}\".format(table.table_id, row[\"size\"]))\n",
        "        else:\n",
        "            print(\"\\tThis dataset does not contain any tables.\")\n",
        "else:\n",
        "    print(\"{} project does not contain any datasets.\".format(PROJECT_NAME))"
      ],
      "metadata": {
        "id": "UCAMrtsYZHH-"
      },
      "execution_count": null,
      "outputs": []
    },
    {
      "cell_type": "markdown",
      "source": [
        "### Retrieve generated logs"
      ],
      "metadata": {
        "id": "d2moSA6_xJyz"
      }
    },
    {
      "cell_type": "code",
      "source": [
        "#download the log file\n",
        "files.download(\"bq-tablesize.log\")"
      ],
      "metadata": {
        "id": "-5sf2hysxGNK"
      },
      "execution_count": null,
      "outputs": []
    },
    {
      "cell_type": "markdown",
      "source": [],
      "metadata": {
        "id": "8seeXA1-xF_N"
      }
    },
    {
      "cell_type": "markdown",
      "source": [
        "## 3. Query Performance Test\n",
        "---\n",
        "\n",
        "Multi-threaded query executor\n",
        "\n",
        "**threadnum** defines how many concurrent queries would be executed. Each set of queries is executed the number of thread defines by this number\n",
        "**test_name** filename where the log will be stored locally\n",
        "**queries** add your queries here, the query index will be registered in the logs\n",
        "\n",
        "\n"
      ],
      "metadata": {
        "id": "8IwrvCEZb85k"
      }
    },
    {
      "cell_type": "code",
      "source": [
        "import time\n",
        "import threading\n",
        "import logging\n",
        "import random\n",
        "\n",
        "##### START - To be modified ###\n",
        "threadnum = 50 # specify the number of concurrent queries (each will execute all queries in the queries list)\n",
        "\n",
        "logname = \"bq-perf-query-test\" + str(threadnum) + \".log\" # define the name of the local file that will be generated\n",
        "\n",
        "# indexed and SQL statement, execution order is randomized before being executed\n",
        "queries =  [\n",
        "    [1, \"SELECT 1\"],\n",
        "    [2, \"SELECT 2\"],\n",
        "    [3, \"SELECT 3\"]\n",
        "  ]\n",
        "##### STOP - To be modified ###\n",
        "\n",
        "# log results\n",
        "logger = logging.getLogger('log')\n",
        "logger.setLevel(logging.INFO)\n",
        "ch = logging.FileHandler(logname)\n",
        "ch.setFormatter(logging.Formatter('%(message)s'))\n",
        "logger.addHandler(ch)\n",
        "def logit(content):\n",
        "\tlogger.info(content)\n",
        "\n",
        "# multithreading\n",
        "exitFlag = 0\n",
        "threadLock = threading.Lock()\n",
        "threads = []\n",
        "\n",
        "# main\n",
        "def main():\n",
        "  j = 0\n",
        "  try:\n",
        "    for i in range(threadnum):\n",
        "      t1 = queryThread(i, j)\n",
        "      threads.append(t1)\n",
        "      t1.start()\n",
        "      time.sleep(1)\n",
        "      j+=1\n",
        "    for t in threads:\n",
        "      t.join()\n",
        "  except:\n",
        "   \t\tprint (\"Error: unable to start thread\")\n",
        "\n",
        "#thread executor going through each query\n",
        "class queryThread (threading.Thread):\n",
        "\tdef __init__(self, threadID, counter):\n",
        "\t\tthreading.Thread.__init__(self)\n",
        "\t\tself.threadID = threadID\n",
        "\t\tself.counter = counter\n",
        "\tdef run(self):\n",
        "\t\tqr = queries\n",
        "\t\trandom.shuffle(qr)\n",
        "\t\ti = 0\n",
        "\t\tfor x in qr:\n",
        "\t\t\tself.callquery(x, i)\n",
        "\t\t\ti+=1\n",
        "\n",
        "  #job execution and log creation\n",
        "\tdef callquery(self, queries, ite):\n",
        "    start_time = round(time.time() * 1000)\n",
        "    job_config = bigquery.QueryJobConfig(use_legacy_sql=False, use_query_cache = False, allow_large_results=True)\n",
        "    query_job = client.query(queries[1], job_config=job_config)\n",
        "    results = query_job.result()\n",
        "\n",
        "    job = client.get_job(query_job.job_id, location=REGION)\n",
        "    stop_time =round(time.time() * 1000)\n",
        "    delta = stop_time - start_time\n",
        "\n",
        "    out =\"test_\" + str(threadnum) +\", \" + str(self.counter) + \", \" + str(ite) + \", \" + str(query[0]) +\",\" + str(start_time) + \", \" + str(stop_time) + \", \" + str(delta) + \", \" + str(job.job_type) + \", \" + str(job.state) + \", \" + str(job.total_bytes_processed) + \", \" + str(job.total_bytes_billed)   + \", \" + str(job.slot_millis)\n",
        "    logit(out)\n",
        "\n",
        "main()"
      ],
      "metadata": {
        "id": "97STfnzCcf1Y"
      },
      "execution_count": null,
      "outputs": []
    },
    {
      "cell_type": "markdown",
      "source": [
        "### Retrieve generated logs"
      ],
      "metadata": {
        "id": "PxCSS3d0wQF5"
      }
    },
    {
      "cell_type": "code",
      "source": [
        "#download the log file\n",
        "files.download(\"bq-perf-query-test\" + str(threadnum) + \".log\")"
      ],
      "metadata": {
        "id": "d1uwKFrLiLX9"
      },
      "execution_count": null,
      "outputs": []
    }
  ]
}