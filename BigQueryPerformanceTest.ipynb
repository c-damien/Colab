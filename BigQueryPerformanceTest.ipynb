{
  "nbformat": 4,
  "nbformat_minor": 0,
  "metadata": {
    "colab": {
      "provenance": []
    },
    "kernelspec": {
      "name": "python3",
      "display_name": "Python 3"
    },
    "language_info": {
      "name": "python"
    }
  },
  "cells": [
    {
      "cell_type": "markdown",
      "source": [
        "## Copyright 2023 Google LLC\n",
        "\n",
        "Licensed under the Apache License, Version 2.0 (the \"License\");\n",
        "you may not use this file except in compliance with the License.\n",
        "You may obtain a copy of the License at\n",
        "\n",
        "    https://www.apache.org/licenses/LICENSE-2.0\n",
        "\n",
        "Unless required by applicable law or agreed to in writing, software\n",
        "distributed under the License is distributed on an \"AS IS\" BASIS,\n",
        "WITHOUT WARRANTIES OR CONDITIONS OF ANY KIND, either express or implied.\n",
        "See the License for the specific language governing permissions and\n",
        "limitations under the License.\n",
        "author: cdamien 2023\n"
      ],
      "metadata": {
        "id": "kuuKD7LBHN1-"
      }
    },
    {
      "cell_type": "markdown",
      "source": [
        "# BigQuery Performance test\n",
        "\n",
        "Author: cdamien\n",
        "\n",
        "This notebook can be used to help in the context of a query performance test and provide several useful scripts to check:\n",
        "1. Check various aspects of the tables in a dataset\n",
        "2. Check assigned slots\n",
        "3. Perform a performance test of your queries (especially what would be the effect of a high number of concurrent queries)\n",
        "\n",
        "\n",
        "\n"
      ],
      "metadata": {
        "id": "NdeOgi8YXJAL"
      }
    },
    {
      "cell_type": "markdown",
      "source": [
        "## 1. Initialization\n",
        "---"
      ],
      "metadata": {
        "id": "KWDjfKdXwc9a"
      }
    },
    {
      "cell_type": "code",
      "source": [
        "from google.colab import files\n",
        "from google.cloud import bigquery\n",
        "\n",
        "# Initial setup\n",
        "global PROJECT_NAME\n",
        "PROJECT_NAME = \"\"#\"my-project\"\n",
        "global DATASET\n",
        "DATASET = \"\" # \"my-dataset\"\n",
        "global REGION\n",
        "REGION = \"us-central1\""
      ],
      "metadata": {
        "id": "XlXf7zEWZ2hP"
      },
      "execution_count": null,
      "outputs": []
    },
    {
      "cell_type": "markdown",
      "source": [
        "### Authentificate your user"
      ],
      "metadata": {
        "id": "Vzcxu1G_Xjwa"
      }
    },
    {
      "cell_type": "code",
      "source": [
        "# use this if you want to authentificate with the current user\n",
        "from google.colab import auth\n",
        "auth.authenticate_user()\n",
        "print('Authenticated')\n",
        "global client\n",
        "client = bigquery.Client(project=PROJECT_NAME)"
      ],
      "metadata": {
        "id": "HmDS0w32XhyO"
      },
      "execution_count": null,
      "outputs": []
    },
    {
      "cell_type": "code",
      "source": [
        "# use this if you want to upload and specify a local key file\n",
        "from google.oauth2 import service_account\n",
        "uploaded = files.upload()\n",
        "credentials = service_account.Credentials.from_service_account_file(\"round-ring-338507-3b59c35fa21d.json\") #update filename here\n",
        "global client\n",
        "client = bigquery.Client(credentials=credentials,project=PROJECT_NAME)"
      ],
      "metadata": {
        "id": "J8yxj5JQsvuL",
        "colab": {
          "base_uri": "https://localhost:8080/",
          "height": 73
        },
        "outputId": "05f19a60-c702-44a2-bdb7-dc0cca2cfb33"
      },
      "execution_count": null,
      "outputs": [
        {
          "output_type": "display_data",
          "data": {
            "text/plain": [
              "<IPython.core.display.HTML object>"
            ],
            "text/html": [
              "\n",
              "     <input type=\"file\" id=\"files-8fee6e08-2ee9-4a32-8d72-7d976d48e67e\" name=\"files[]\" multiple disabled\n",
              "        style=\"border:none\" />\n",
              "     <output id=\"result-8fee6e08-2ee9-4a32-8d72-7d976d48e67e\">\n",
              "      Upload widget is only available when the cell has been executed in the\n",
              "      current browser session. Please rerun this cell to enable.\n",
              "      </output>\n",
              "      <script>// Copyright 2017 Google LLC\n",
              "//\n",
              "// Licensed under the Apache License, Version 2.0 (the \"License\");\n",
              "// you may not use this file except in compliance with the License.\n",
              "// You may obtain a copy of the License at\n",
              "//\n",
              "//      http://www.apache.org/licenses/LICENSE-2.0\n",
              "//\n",
              "// Unless required by applicable law or agreed to in writing, software\n",
              "// distributed under the License is distributed on an \"AS IS\" BASIS,\n",
              "// WITHOUT WARRANTIES OR CONDITIONS OF ANY KIND, either express or implied.\n",
              "// See the License for the specific language governing permissions and\n",
              "// limitations under the License.\n",
              "\n",
              "/**\n",
              " * @fileoverview Helpers for google.colab Python module.\n",
              " */\n",
              "(function(scope) {\n",
              "function span(text, styleAttributes = {}) {\n",
              "  const element = document.createElement('span');\n",
              "  element.textContent = text;\n",
              "  for (const key of Object.keys(styleAttributes)) {\n",
              "    element.style[key] = styleAttributes[key];\n",
              "  }\n",
              "  return element;\n",
              "}\n",
              "\n",
              "// Max number of bytes which will be uploaded at a time.\n",
              "const MAX_PAYLOAD_SIZE = 100 * 1024;\n",
              "\n",
              "function _uploadFiles(inputId, outputId) {\n",
              "  const steps = uploadFilesStep(inputId, outputId);\n",
              "  const outputElement = document.getElementById(outputId);\n",
              "  // Cache steps on the outputElement to make it available for the next call\n",
              "  // to uploadFilesContinue from Python.\n",
              "  outputElement.steps = steps;\n",
              "\n",
              "  return _uploadFilesContinue(outputId);\n",
              "}\n",
              "\n",
              "// This is roughly an async generator (not supported in the browser yet),\n",
              "// where there are multiple asynchronous steps and the Python side is going\n",
              "// to poll for completion of each step.\n",
              "// This uses a Promise to block the python side on completion of each step,\n",
              "// then passes the result of the previous step as the input to the next step.\n",
              "function _uploadFilesContinue(outputId) {\n",
              "  const outputElement = document.getElementById(outputId);\n",
              "  const steps = outputElement.steps;\n",
              "\n",
              "  const next = steps.next(outputElement.lastPromiseValue);\n",
              "  return Promise.resolve(next.value.promise).then((value) => {\n",
              "    // Cache the last promise value to make it available to the next\n",
              "    // step of the generator.\n",
              "    outputElement.lastPromiseValue = value;\n",
              "    return next.value.response;\n",
              "  });\n",
              "}\n",
              "\n",
              "/**\n",
              " * Generator function which is called between each async step of the upload\n",
              " * process.\n",
              " * @param {string} inputId Element ID of the input file picker element.\n",
              " * @param {string} outputId Element ID of the output display.\n",
              " * @return {!Iterable<!Object>} Iterable of next steps.\n",
              " */\n",
              "function* uploadFilesStep(inputId, outputId) {\n",
              "  const inputElement = document.getElementById(inputId);\n",
              "  inputElement.disabled = false;\n",
              "\n",
              "  const outputElement = document.getElementById(outputId);\n",
              "  outputElement.innerHTML = '';\n",
              "\n",
              "  const pickedPromise = new Promise((resolve) => {\n",
              "    inputElement.addEventListener('change', (e) => {\n",
              "      resolve(e.target.files);\n",
              "    });\n",
              "  });\n",
              "\n",
              "  const cancel = document.createElement('button');\n",
              "  inputElement.parentElement.appendChild(cancel);\n",
              "  cancel.textContent = 'Cancel upload';\n",
              "  const cancelPromise = new Promise((resolve) => {\n",
              "    cancel.onclick = () => {\n",
              "      resolve(null);\n",
              "    };\n",
              "  });\n",
              "\n",
              "  // Wait for the user to pick the files.\n",
              "  const files = yield {\n",
              "    promise: Promise.race([pickedPromise, cancelPromise]),\n",
              "    response: {\n",
              "      action: 'starting',\n",
              "    }\n",
              "  };\n",
              "\n",
              "  cancel.remove();\n",
              "\n",
              "  // Disable the input element since further picks are not allowed.\n",
              "  inputElement.disabled = true;\n",
              "\n",
              "  if (!files) {\n",
              "    return {\n",
              "      response: {\n",
              "        action: 'complete',\n",
              "      }\n",
              "    };\n",
              "  }\n",
              "\n",
              "  for (const file of files) {\n",
              "    const li = document.createElement('li');\n",
              "    li.append(span(file.name, {fontWeight: 'bold'}));\n",
              "    li.append(span(\n",
              "        `(${file.type || 'n/a'}) - ${file.size} bytes, ` +\n",
              "        `last modified: ${\n",
              "            file.lastModifiedDate ? file.lastModifiedDate.toLocaleDateString() :\n",
              "                                    'n/a'} - `));\n",
              "    const percent = span('0% done');\n",
              "    li.appendChild(percent);\n",
              "\n",
              "    outputElement.appendChild(li);\n",
              "\n",
              "    const fileDataPromise = new Promise((resolve) => {\n",
              "      const reader = new FileReader();\n",
              "      reader.onload = (e) => {\n",
              "        resolve(e.target.result);\n",
              "      };\n",
              "      reader.readAsArrayBuffer(file);\n",
              "    });\n",
              "    // Wait for the data to be ready.\n",
              "    let fileData = yield {\n",
              "      promise: fileDataPromise,\n",
              "      response: {\n",
              "        action: 'continue',\n",
              "      }\n",
              "    };\n",
              "\n",
              "    // Use a chunked sending to avoid message size limits. See b/62115660.\n",
              "    let position = 0;\n",
              "    do {\n",
              "      const length = Math.min(fileData.byteLength - position, MAX_PAYLOAD_SIZE);\n",
              "      const chunk = new Uint8Array(fileData, position, length);\n",
              "      position += length;\n",
              "\n",
              "      const base64 = btoa(String.fromCharCode.apply(null, chunk));\n",
              "      yield {\n",
              "        response: {\n",
              "          action: 'append',\n",
              "          file: file.name,\n",
              "          data: base64,\n",
              "        },\n",
              "      };\n",
              "\n",
              "      let percentDone = fileData.byteLength === 0 ?\n",
              "          100 :\n",
              "          Math.round((position / fileData.byteLength) * 100);\n",
              "      percent.textContent = `${percentDone}% done`;\n",
              "\n",
              "    } while (position < fileData.byteLength);\n",
              "  }\n",
              "\n",
              "  // All done.\n",
              "  yield {\n",
              "    response: {\n",
              "      action: 'complete',\n",
              "    }\n",
              "  };\n",
              "}\n",
              "\n",
              "scope.google = scope.google || {};\n",
              "scope.google.colab = scope.google.colab || {};\n",
              "scope.google.colab._files = {\n",
              "  _uploadFiles,\n",
              "  _uploadFilesContinue,\n",
              "};\n",
              "})(self);\n",
              "</script> "
            ]
          },
          "metadata": {}
        },
        {
          "output_type": "stream",
          "name": "stdout",
          "text": [
            "Saving round-ring-338507-3b59c35fa21d.json to round-ring-338507-3b59c35fa21d (5).json\n"
          ]
        }
      ]
    },
    {
      "cell_type": "markdown",
      "source": [
        "## 2. Check Tables\n",
        "---"
      ],
      "metadata": {
        "id": "lMWlyQT8XzB4"
      }
    },
    {
      "cell_type": "markdown",
      "source": [
        "### List datasets and their tables with their size in GB\n",
        "\n"
      ],
      "metadata": {
        "id": "7h3PpgpDZDz-"
      }
    },
    {
      "cell_type": "code",
      "source": [
        "datasets = list(client.list_datasets())\n",
        "\n",
        "logger1 = logging.getLogger('log')\n",
        "logger1.setLevel(logging.INFO)\n",
        "ch = logging.FileHandler(\"bq-tablesize.log\")\n",
        "ch.setFormatter(logging.Formatter('%(message)s'))\n",
        "logger1.addHandler(ch)\n",
        "def logit(content):\n",
        "\tlogger1.info(content)\n",
        "\n",
        "\n",
        "if datasets:\n",
        "    logger1.info(\"Datasets in project {}:\".format(PROJECT_NAME))\n",
        "    for dataset in datasets:\n",
        "        logger1.info(\"+ \\t{}\".format(dataset.dataset_id))\n",
        "        dt = client.get_dataset(dataset.dataset_id)\n",
        "        tables = list(client.list_tables(dt))\n",
        "        if tables:\n",
        "            for table in tables:\n",
        "                query = \"\"\"select sum(size_bytes)/1073741824 as size FROM \"\"\"+ PROJECT_NAME +\".\"+ dataset.dataset_id +\"\"\".__TABLES__ WHERE table_id ='\"\"\" + table.table_id + \"'\"\n",
        "                query_job = client.query(query)\n",
        "                for row in query_job:\n",
        "                  logger1.info(\"name={}, tablesize={}\".format(table.table_id, row[\"size\"]))\n",
        "        else:\n",
        "            print(\"\\tThis dataset does not contain any tables.\")\n",
        "else:\n",
        "    print(\"{} project does not contain any datasets.\".format(PROJECT_NAME))"
      ],
      "metadata": {
        "id": "UCAMrtsYZHH-"
      },
      "execution_count": null,
      "outputs": []
    },
    {
      "cell_type": "markdown",
      "source": [
        "### Retrieve generated logs"
      ],
      "metadata": {
        "id": "d2moSA6_xJyz"
      }
    },
    {
      "cell_type": "code",
      "source": [
        "#download the log file\n",
        "files.download(\"bq-tablesize.log\")"
      ],
      "metadata": {
        "id": "-5sf2hysxGNK"
      },
      "execution_count": null,
      "outputs": []
    },
    {
      "cell_type": "markdown",
      "source": [],
      "metadata": {
        "id": "8seeXA1-xF_N"
      }
    },
    {
      "cell_type": "markdown",
      "source": [
        "## 3. Query Performance Test\n",
        "---\n",
        "\n",
        "Multi-threaded query executor\n",
        "\n",
        "**threadnum** defines how many concurrent queries would be executed. Each set of queries is executed the number of thread defines by this number\n",
        "**test_name** filename where the log will be stored locally\n",
        "**queries** add your queries here, the query index will be registered in the logs\n",
        "\n",
        "\n"
      ],
      "metadata": {
        "id": "8IwrvCEZb85k"
      }
    },
    {
      "cell_type": "code",
      "source": [
        "import time\n",
        "import threading\n",
        "import logging\n",
        "import random\n",
        "\n",
        "\n",
        "\n",
        "##### START - To be modified ###\n",
        "threadnum = 2 # specify the number of concurrent queries (each will execute all queries in the queries list)\n",
        "\n",
        "logname = \"bq-perf-query-test\" + str(threadnum) + \".log\" # define the name of the local file that will be generated\n",
        "\n",
        "# indexed and SQL statement, execution order is randomized before being executed\n",
        "queries =  [\n",
        "    [1, \"SELECT * FROM `myDS.test_table` Limit 5\"],\n",
        "    [2, \"SELECT * FROM `myDS.test_table` Limit 5\"],\n",
        "    [3, \"SELECT * FROM `myDS.test_table` Limit 5\"]\n",
        "  ]\n",
        "##### STOP - To be modified ###\n",
        "\n",
        "# log results\n",
        "logger = logging.getLogger('log')\n",
        "logger.setLevel(logging.INFO)\n",
        "ch = logging.FileHandler(logname)\n",
        "ch.setFormatter(logging.Formatter('%(message)s'))\n",
        "logger.addHandler(ch)\n",
        "def logit(content):\n",
        "  logger.info(content)\n",
        "\n",
        "# multithreading\n",
        "exitFlag = 0\n",
        "threadLock = threading.Lock()\n",
        "threads = []\n",
        "\n",
        "# main\n",
        "def main():\n",
        "  j = 0\n",
        "  try:\n",
        "    for i in range(threadnum):\n",
        "      t1 = queryThread(i, j)\n",
        "      threads.append(t1)\n",
        "      t1.start()\n",
        "      time.sleep(1)\n",
        "      j+=1\n",
        "    for t in threads:\n",
        "      t.join()\n",
        "  except:\n",
        "    print (\"Error: unable to start thread\")\n",
        "#thread executor going through each query\n",
        "class queryThread (threading.Thread):\n",
        "  def __init__(self, threadID, counter):\n",
        "    threading.Thread.__init__(self)\n",
        "    self.threadID = threadID\n",
        "    self.counter = counter\n",
        "  def run(self):\n",
        "    qr = queries\n",
        "    random.shuffle(qr)\n",
        "    i = 0\n",
        "    for x in qr:\n",
        "      self.callquery(x, i)\n",
        "      i+=1\n",
        "  #job execution and log creation\n",
        "  def callquery(self, queries, ite):\n",
        "    print(queries[1])\n",
        "    start_time = round(time.time() * 1000)\n",
        "    job_config = bigquery.QueryJobConfig(use_legacy_sql=False, use_query_cache = False, allow_large_results=True)\n",
        "    query_job = client.query(queries[1], location=REGION, job_config=job_config)\n",
        "    results = query_job.result()\n",
        "\n",
        "    job = client.get_job(query_job.job_id, location=REGION)\n",
        "    stop_time =round(time.time() * 1000)\n",
        "    delta = stop_time - start_time\n",
        "\n",
        "    out =\"test_\" + str(threadnum) +\", \" + str(self.counter) + \", \" + str(ite) + \", \" + str(queries[0]) +\",\" + str(start_time) + \", \" + str(stop_time) + \", \" + str(delta) + \", \" + str(job.job_type) + \", \" + str(job.state) + \", \" + str(job.total_bytes_processed) + \", \" + str(job.total_bytes_billed)   + \", \" + str(job.slot_millis)\n",
        "    logit(out)\n",
        "\n",
        "main()"
      ],
      "metadata": {
        "id": "97STfnzCcf1Y",
        "colab": {
          "base_uri": "https://localhost:8080/"
        },
        "outputId": "fc693b45-42d9-4486-cbdf-a685a67436e3"
      },
      "execution_count": null,
      "outputs": [
        {
          "output_type": "stream",
          "name": "stdout",
          "text": [
            "SELECT * FROM `myDS.test_table` Limit 5\n",
            "SELECT * FROM `myDS.test_table` Limit 5\n"
          ]
        },
        {
          "output_type": "stream",
          "name": "stderr",
          "text": [
            "INFO:log:test_2, 0, 0, 1,1676654046535, 1676654048084, 1549, query, DONE, 340, 10485760, 52\n"
          ]
        },
        {
          "output_type": "stream",
          "name": "stdout",
          "text": [
            "SELECT * FROM `myDS.test_table` Limit 5\n"
          ]
        },
        {
          "output_type": "stream",
          "name": "stderr",
          "text": [
            "INFO:log:test_2, 1, 0, 3,1676654047535, 1676654048965, 1430, query, DONE, 340, 10485760, 63\n"
          ]
        },
        {
          "output_type": "stream",
          "name": "stdout",
          "text": [
            "SELECT * FROM `myDS.test_table` Limit 5\n"
          ]
        },
        {
          "output_type": "stream",
          "name": "stderr",
          "text": [
            "INFO:log:test_2, 0, 1, 1,1676654048086, 1676654049322, 1236, query, DONE, 340, 10485760, 32\n"
          ]
        },
        {
          "output_type": "stream",
          "name": "stdout",
          "text": [
            "SELECT * FROM `myDS.test_table` Limit 5\n"
          ]
        },
        {
          "output_type": "stream",
          "name": "stderr",
          "text": [
            "INFO:log:test_2, 1, 1, 1,1676654048966, 1676654050158, 1192, query, DONE, 340, 10485760, 30\n"
          ]
        },
        {
          "output_type": "stream",
          "name": "stdout",
          "text": [
            "SELECT * FROM `myDS.test_table` Limit 5\n"
          ]
        },
        {
          "output_type": "stream",
          "name": "stderr",
          "text": [
            "INFO:log:test_2, 0, 2, 2,1676654049324, 1676654050552, 1228, query, DONE, 340, 10485760, 42\n",
            "INFO:log:test_2, 1, 2, 2,1676654050160, 1676654051499, 1339, query, DONE, 340, 10485760, 40\n"
          ]
        }
      ]
    },
    {
      "cell_type": "markdown",
      "source": [
        "### Retrieve generated logs"
      ],
      "metadata": {
        "id": "PxCSS3d0wQF5"
      }
    },
    {
      "cell_type": "code",
      "source": [
        "#download the log file\n",
        "files.download(\"bq-perf-query-test\" + str(threadnum) + \".log\")"
      ],
      "metadata": {
        "id": "d1uwKFrLiLX9",
        "colab": {
          "base_uri": "https://localhost:8080/",
          "height": 17
        },
        "outputId": "6d19f4a9-7c42-4d32-f93c-4e4eee950237"
      },
      "execution_count": null,
      "outputs": [
        {
          "output_type": "display_data",
          "data": {
            "text/plain": [
              "<IPython.core.display.Javascript object>"
            ],
            "application/javascript": [
              "\n",
              "    async function download(id, filename, size) {\n",
              "      if (!google.colab.kernel.accessAllowed) {\n",
              "        return;\n",
              "      }\n",
              "      const div = document.createElement('div');\n",
              "      const label = document.createElement('label');\n",
              "      label.textContent = `Downloading \"${filename}\": `;\n",
              "      div.appendChild(label);\n",
              "      const progress = document.createElement('progress');\n",
              "      progress.max = size;\n",
              "      div.appendChild(progress);\n",
              "      document.body.appendChild(div);\n",
              "\n",
              "      const buffers = [];\n",
              "      let downloaded = 0;\n",
              "\n",
              "      const channel = await google.colab.kernel.comms.open(id);\n",
              "      // Send a message to notify the kernel that we're ready.\n",
              "      channel.send({})\n",
              "\n",
              "      for await (const message of channel.messages) {\n",
              "        // Send a message to notify the kernel that we're ready.\n",
              "        channel.send({})\n",
              "        if (message.buffers) {\n",
              "          for (const buffer of message.buffers) {\n",
              "            buffers.push(buffer);\n",
              "            downloaded += buffer.byteLength;\n",
              "            progress.value = downloaded;\n",
              "          }\n",
              "        }\n",
              "      }\n",
              "      const blob = new Blob(buffers, {type: 'application/binary'});\n",
              "      const a = document.createElement('a');\n",
              "      a.href = window.URL.createObjectURL(blob);\n",
              "      a.download = filename;\n",
              "      div.appendChild(a);\n",
              "      a.click();\n",
              "      div.remove();\n",
              "    }\n",
              "  "
            ]
          },
          "metadata": {}
        },
        {
          "output_type": "display_data",
          "data": {
            "text/plain": [
              "<IPython.core.display.Javascript object>"
            ],
            "application/javascript": [
              "download(\"download_08154569-2226-46b8-93ef-0828b41e8f3b\", \"bq-perf-query-test2.log\", 1494)"
            ]
          },
          "metadata": {}
        }
      ]
    }
  ]
}